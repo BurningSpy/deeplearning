{
 "cells": [
  {
   "cell_type": "code",
   "execution_count": 2,
   "metadata": {},
   "outputs": [
    {
     "name": "stderr",
     "output_type": "stream",
     "text": [
      "WARNING:root:This caffe2 python run does not have GPU support. Will run in CPU only mode.\n",
      "WARNING:root:Debug message: No module named caffe2_pybind11_state_gpu\n"
     ]
    }
   ],
   "source": [
    "from caffe2.python import core, workspace\n",
    "import numpy as np "
   ]
  },
  {
   "cell_type": "code",
   "execution_count": 3,
   "metadata": {},
   "outputs": [],
   "source": [
    "X = np.random.rand(2, 5, 3).astype(np.float32) "
   ]
  },
  {
   "cell_type": "code",
   "execution_count": 4,
   "metadata": {},
   "outputs": [
    {
     "name": "stdout",
     "output_type": "stream",
     "text": [
      "[[[ 0.13253027  0.90434247  0.02526305]\n",
      "  [ 0.67464566  0.38786858  0.42217353]\n",
      "  [ 0.33778286  0.7821064   0.04334169]\n",
      "  [ 0.88407576  0.42954266  0.68552959]\n",
      "  [ 0.73543739  0.96087408  0.07003585]]\n",
      "\n",
      " [[ 0.55055773  0.86309969  0.04553951]\n",
      "  [ 0.93194878  0.25179058  0.54651076]\n",
      "  [ 0.59739774  0.72449315  0.72188663]\n",
      "  [ 0.33392504  0.69899517  0.19179392]\n",
      "  [ 0.59689021  0.52796525  0.96804172]]]\n"
     ]
    }
   ],
   "source": [
    "print(X)"
   ]
  },
  {
   "cell_type": "code",
   "execution_count": 5,
   "metadata": {},
   "outputs": [],
   "source": [
    "sqr_op = core.CreateOperator( \"Sqr\", [\"X\"],[\"Z\"], name=\"sqr_op\") \n"
   ]
  },
  {
   "cell_type": "code",
   "execution_count": 6,
   "metadata": {},
   "outputs": [
    {
     "name": "stdout",
     "output_type": "stream",
     "text": [
      "input: \"X\"\n",
      "output: \"Z\"\n",
      "name: \"sqr_op\"\n",
      "type: \"Sqr\"\n",
      "\n"
     ]
    }
   ],
   "source": [
    "print(str(sqr_op))"
   ]
  },
  {
   "cell_type": "code",
   "execution_count": 7,
   "metadata": {},
   "outputs": [
    {
     "data": {
      "text/plain": [
       "True"
      ]
     },
     "execution_count": 7,
     "metadata": {},
     "output_type": "execute_result"
    }
   ],
   "source": [
    "workspace.FeedBlob(\"sqr_data\", X)"
   ]
  },
  {
   "cell_type": "code",
   "execution_count": 8,
   "metadata": {},
   "outputs": [
    {
     "name": "stdout",
     "output_type": "stream",
     "text": [
      "Blobs im Workspace [u'sqr_data']\n"
     ]
    }
   ],
   "source": [
    "print(\"Blobs im Workspace {}\".format(workspace.Blobs()))"
   ]
  },
  {
   "cell_type": "code",
   "execution_count": 10,
   "metadata": {},
   "outputs": [],
   "source": [
    "sqr_data = workspace.FetchBlob(\"sqr_data\")"
   ]
  },
  {
   "cell_type": "code",
   "execution_count": 11,
   "metadata": {},
   "outputs": [
    {
     "name": "stdout",
     "output_type": "stream",
     "text": [
      "sqr_data:\n",
      "[[[ 0.13253027  0.90434247  0.02526305]\n",
      "  [ 0.67464566  0.38786858  0.42217353]\n",
      "  [ 0.33778286  0.7821064   0.04334169]\n",
      "  [ 0.88407576  0.42954266  0.68552959]\n",
      "  [ 0.73543739  0.96087408  0.07003585]]\n",
      "\n",
      " [[ 0.55055773  0.86309969  0.04553951]\n",
      "  [ 0.93194878  0.25179058  0.54651076]\n",
      "  [ 0.59739774  0.72449315  0.72188663]\n",
      "  [ 0.33392504  0.69899517  0.19179392]\n",
      "  [ 0.59689021  0.52796525  0.96804172]]]\n"
     ]
    }
   ],
   "source": [
    "print(\"sqr_data:\\n{}\".format(sqr_data))"
   ]
  },
  {
   "cell_type": "code",
   "execution_count": null,
   "metadata": {},
   "outputs": [],
   "source": []
  }
 ],
 "metadata": {
  "kernelspec": {
   "display_name": "Python 2",
   "language": "python",
   "name": "python2"
  },
  "language_info": {
   "codemirror_mode": {
    "name": "ipython",
    "version": 2
   },
   "file_extension": ".py",
   "mimetype": "text/x-python",
   "name": "python",
   "nbconvert_exporter": "python",
   "pygments_lexer": "ipython2",
   "version": "2.7.12"
  }
 },
 "nbformat": 4,
 "nbformat_minor": 2
}
