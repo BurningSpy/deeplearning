{
 "cells": [
  {
   "cell_type": "code",
   "execution_count": 2,
   "metadata": {
    "collapsed": true
   },
   "outputs": [],
   "source": [
    "import numpy as np\n",
    "import caffe\n",
    "caffe.set_mode_cpu()"
   ]
  },
  {
   "cell_type": "code",
   "execution_count": 3,
   "metadata": {
    "collapsed": false
   },
   "outputs": [
    {
     "name": "stdout",
     "output_type": "stream",
     "text": [
      "/notebooks/kapitel4\n"
     ]
    }
   ],
   "source": [
    "%cd /notebooks/kapitel4"
   ]
  },
  {
   "cell_type": "code",
   "execution_count": 4,
   "metadata": {
    "collapsed": false
   },
   "outputs": [],
   "source": [
    "net = caffe.Net(\"xor_net.prototxt\", caffe.TEST)"
   ]
  },
  {
   "cell_type": "code",
   "execution_count": 5,
   "metadata": {
    "collapsed": false
   },
   "outputs": [
    {
     "name": "stdout",
     "output_type": "stream",
     "text": [
      "[]\n"
     ]
    }
   ],
   "source": [
    "print net.inputs"
   ]
  },
  {
   "cell_type": "code",
   "execution_count": 6,
   "metadata": {
    "collapsed": false
   },
   "outputs": [
    {
     "name": "stdout",
     "output_type": "stream",
     "text": [
      "OrderedDict([('data', <caffe._caffe.Blob object at 0x7fb3aa441de8>), ('label', <caffe._caffe.Blob object at 0x7fb3aa441d70>), ('data_data_0_split_0', <caffe._caffe.Blob object at 0x7fb3aa441cf8>), ('data_data_0_split_1', <caffe._caffe.Blob object at 0x7fb3aa441c80>), ('label_data_1_split_0', <caffe._caffe.Blob object at 0x7fb3aa441c08>), ('label_data_1_split_1', <caffe._caffe.Blob object at 0x7fb3aa441b90>), ('fc1', <caffe._caffe.Blob object at 0x7fb3aa441b18>), ('concat1', <caffe._caffe.Blob object at 0x7fb3aa441aa0>), ('fc2', <caffe._caffe.Blob object at 0x7fb3aa441a28>), ('fc2_fc2_0_split_0', <caffe._caffe.Blob object at 0x7fb3aa4419b0>), ('fc2_fc2_0_split_1', <caffe._caffe.Blob object at 0x7fb3aa441938>), ('loss', <caffe._caffe.Blob object at 0x7fb3aa4418c0>), ('accuracy', <caffe._caffe.Blob object at 0x7fb3aa441848>)])\n"
     ]
    }
   ],
   "source": [
    "print net.blobs"
   ]
  },
  {
   "cell_type": "code",
   "execution_count": 7,
   "metadata": {
    "collapsed": false
   },
   "outputs": [
    {
     "name": "stdout",
     "output_type": "stream",
     "text": [
      "<caffe._caffe.Blob object at 0x7fb3aa441de8>\n"
     ]
    }
   ],
   "source": [
    "print net.blobs['data']"
   ]
  },
  {
   "cell_type": "code",
   "execution_count": 8,
   "metadata": {
    "collapsed": false
   },
   "outputs": [
    {
     "data": {
      "text/plain": [
       "[('data', (4, 2)),\n",
       " ('label', (4,)),\n",
       " ('data_data_0_split_0', (4, 2)),\n",
       " ('data_data_0_split_1', (4, 2)),\n",
       " ('label_data_1_split_0', (4,)),\n",
       " ('label_data_1_split_1', (4,)),\n",
       " ('fc1', (4, 1)),\n",
       " ('concat1', (4, 3)),\n",
       " ('fc2', (4, 2)),\n",
       " ('fc2_fc2_0_split_0', (4, 2)),\n",
       " ('fc2_fc2_0_split_1', (4, 2)),\n",
       " ('loss', ()),\n",
       " ('accuracy', ())]"
      ]
     },
     "execution_count": 8,
     "metadata": {},
     "output_type": "execute_result"
    }
   ],
   "source": [
    "[(k, v.data.shape) for k, v in net.blobs.items()]"
   ]
  },
  {
   "cell_type": "code",
   "execution_count": 9,
   "metadata": {
    "collapsed": false
   },
   "outputs": [
    {
     "data": {
      "text/plain": [
       "[('fc1', (1, 2), (1,)), ('fc2', (2, 3), (2,))]"
      ]
     },
     "execution_count": 9,
     "metadata": {},
     "output_type": "execute_result"
    }
   ],
   "source": [
    "[(k, v[0].data.shape, v[1].data.shape) for k, v in net.params.items()]"
   ]
  },
  {
   "cell_type": "code",
   "execution_count": 10,
   "metadata": {
    "collapsed": false
   },
   "outputs": [
    {
     "name": "stdout",
     "output_type": "stream",
     "text": [
      "(4, 1)\n"
     ]
    }
   ],
   "source": [
    "print net.blobs['fc1'].data.shape"
   ]
  },
  {
   "cell_type": "code",
   "execution_count": null,
   "metadata": {
    "collapsed": true
   },
   "outputs": [],
   "source": []
  },
  {
   "cell_type": "code",
   "execution_count": null,
   "metadata": {
    "collapsed": true
   },
   "outputs": [],
   "source": []
  },
  {
   "cell_type": "code",
   "execution_count": null,
   "metadata": {
    "collapsed": true
   },
   "outputs": [],
   "source": []
  },
  {
   "cell_type": "code",
   "execution_count": null,
   "metadata": {
    "collapsed": true
   },
   "outputs": [],
   "source": []
  }
 ],
 "metadata": {
  "kernelspec": {
   "display_name": "Python 2",
   "language": "python",
   "name": "python2"
  },
  "language_info": {
   "codemirror_mode": {
    "name": "ipython",
    "version": 2
   },
   "file_extension": ".py",
   "mimetype": "text/x-python",
   "name": "python",
   "nbconvert_exporter": "python",
   "pygments_lexer": "ipython2",
   "version": "2.7.12"
  }
 },
 "nbformat": 4,
 "nbformat_minor": 1
}
